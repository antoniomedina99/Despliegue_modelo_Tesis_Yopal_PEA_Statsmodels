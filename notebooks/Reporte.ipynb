{
 "cells": [
  {
   "attachments": {},
   "cell_type": "markdown",
   "id": "eb288349-3601-4b2d-813c-54b0fa5ee697",
   "metadata": {},
   "source": [
    "<center> <h1>Incidencia del Nivel de Escolaridad Sobre el Salario de la Población Económicamente Activa Ocupada del Área Urbana en la Ciudad de Yopal Casanare</h1> </center>"
   ]
  },
  {
   "attachments": {},
   "cell_type": "markdown",
   "id": "79057261-857a-4662-958a-4023afd7b38f",
   "metadata": {},
   "source": [
    "## Resumen \n",
    "\n",
    "Este trabajo estudia la relación que tiene el nivel de escolaridad sobre el nivel de salarios de la población económicamente activa (PEA) en condición ocupada de Yopal Casanare. Los datos utilizados para el análisis se obtuvieron a través de encuestas dirigidas a la población trabajadora de la zona urbana entre noviembre y diciembre del año 2021. La metodología econométrica incluye la estimación por Mínimos cuadrados ordinarios (MCO) calculada con errores estándares robustos, donde se propone que el nivel educativo incide sobre los salarios de los trabajadores. Se logra determinar que, el nivel educativo es estadísticamente significativo en los salarios de la PEA, en donde, la edad y la experiencia influyen, pero, en menor medida sobre el nivel de ingreso, adicionalmente a esto, existe discriminación salarial por género.<br><br>\n",
    "**Palabras claves: Grado de escolaridad, nivel de salarios, población económicamente activa (PEA) y econometría.**"
   ]
  },
  {
   "attachments": {},
   "cell_type": "markdown",
   "id": "e7f812ea-ebba-4f62-8179-41a7e4fa7857",
   "metadata": {},
   "source": [
    "## Resumen variables"
   ]
  },
  {
   "attachments": {},
   "cell_type": "markdown",
   "id": "2c7c5f65-8215-4e70-91b6-416d812e5100",
   "metadata": {},
   "source": [
    "<center>\n",
    "\n",
    "|Variables  | Nombre  | Tipos de variables |\n",
    "|:------:|:---:|:-------:|\n",
    "| Nivel de salario mensual<br>(Logaritmo del ingreso<br> en pesos colombianos)|<center>  Y  | Continua nominal |\n",
    "|Nivel de escolaridad:<br> Primaria y Bachillerato<br>Técnico y Tecnólogo<br> Pregrado y posgrado    |<center> X1<br><center>X2<br><center>X3<br>  | Categórica ordinal |\n",
    "|Años de experiencia   | <center>Z  | Continua nominal |\n",
    "|Canal de búsqueda:<br>1: Recomendación<br> 0: Sin recomendación |<center>Q | Categórica nominal|\n",
    "|Escolaridad obtenida<br>fuera del departamento:<br><center>1: Sí <br><center>0: No |<center>F |Categórica nominal|\n",
    "|Género<br>1: Masculino<br> 0: Femenino|G | Categórica nominal|\n",
    "|Edad | W |Continua nominal|\n",
    "|Hijos | son|  Categórica nominal|\n",
    "|Con pareja| wed| Categórica nominal|\n",
    "\n",
    "Fuente: Elaboración propia <br><br>\n",
    "*** Ln: variable normalizaada con el logaritmo natural<br>\n",
    "***_2 Elevado al cuadrado<br>\n",
    "*** d variable normalizada $\\frac{var}{1000}$"
   ]
  },
  {
   "attachments": {},
   "cell_type": "markdown",
   "id": "9e98af31-7122-44c7-a5ff-f2c126d5257e",
   "metadata": {},
   "source": [
    "    \n",
    "\n",
    "Principalmente se tuvieron en cuenta quince variables en la encuesta de las cuales sietefueron elegidas para\n",
    "el estudio dado su nivel de significancia. Cabe mencionar que las preguntas de la encuesta eran de tipo\n",
    "cerrada y otras semi-abierta tipo categóricas.<br><br>\n",
    "La variable escolaridad 𝑋 está registrada según el nivel de escolaridad culminado satisfactoriamente, por lo\n",
    "que, no se tuvo en cuenta algún proceso de adelanto de dicha formación, si no, hasta haberlo completado.\n",
    "La variable canal de búsqueda 𝑄 se plantea como variable dicótoma, si la persona fue recomendada para\n",
    "su trabajo o no contaba con alguna recomendación. En la variable escolaridad fuera del departamento 𝐹 se\n",
    "preguntó si alguno de los títulos académicos fue completado fuera del departamento, en este caso Casanare,\n",
    "dado que podría tener alguna incidencia el hecho de haber llevado a cabo estudios fuera de este, puesto que\n",
    "existe mejor reconocimiento y más alto nivel en cuanto a la oferta educacional en otros departamentos."
   ]
  },
  {
   "attachments": {},
   "cell_type": "markdown",
   "id": "e8908dab-ca15-46ea-b4b5-120a2dea0f4c",
   "metadata": {},
   "source": [
    "# Importar datos "
   ]
  },
  {
   "cell_type": "code",
   "execution_count": 20,
   "id": "449222f6-c601-433f-8866-ac12df64228b",
   "metadata": {},
   "outputs": [
    {
     "data": {
      "text/html": [
       "<div>\n",
       "<style scoped>\n",
       "    .dataframe tbody tr th:only-of-type {\n",
       "        vertical-align: middle;\n",
       "    }\n",
       "\n",
       "    .dataframe tbody tr th {\n",
       "        vertical-align: top;\n",
       "    }\n",
       "\n",
       "    .dataframe thead th {\n",
       "        text-align: right;\n",
       "    }\n",
       "</style>\n",
       "<table border=\"1\" class=\"dataframe\">\n",
       "  <thead>\n",
       "    <tr style=\"text-align: right;\">\n",
       "      <th></th>\n",
       "      <th>y</th>\n",
       "      <th>y_2</th>\n",
       "      <th>y_ln</th>\n",
       "      <th>y_d</th>\n",
       "      <th>q</th>\n",
       "      <th>x1</th>\n",
       "      <th>x2</th>\n",
       "      <th>x3</th>\n",
       "      <th>f</th>\n",
       "      <th>g</th>\n",
       "      <th>w</th>\n",
       "      <th>w_2</th>\n",
       "      <th>wed</th>\n",
       "      <th>son</th>\n",
       "      <th>son_2</th>\n",
       "      <th>z</th>\n",
       "      <th>z_2</th>\n",
       "      <th>z_ln</th>\n",
       "      <th>w_z</th>\n",
       "    </tr>\n",
       "  </thead>\n",
       "  <tbody>\n",
       "    <tr>\n",
       "      <th>0</th>\n",
       "      <td>1500000</td>\n",
       "      <td>2250000000000</td>\n",
       "      <td>14.220976</td>\n",
       "      <td>1500.0</td>\n",
       "      <td>0</td>\n",
       "      <td>0</td>\n",
       "      <td>0</td>\n",
       "      <td>1</td>\n",
       "      <td>0</td>\n",
       "      <td>1</td>\n",
       "      <td>26</td>\n",
       "      <td>676</td>\n",
       "      <td>0</td>\n",
       "      <td>0</td>\n",
       "      <td>0</td>\n",
       "      <td>2.0</td>\n",
       "      <td>4.0</td>\n",
       "      <td>0.693147</td>\n",
       "      <td>52.0</td>\n",
       "    </tr>\n",
       "    <tr>\n",
       "      <th>1</th>\n",
       "      <td>2300000</td>\n",
       "      <td>5290000000000</td>\n",
       "      <td>14.648420</td>\n",
       "      <td>2300.0</td>\n",
       "      <td>1</td>\n",
       "      <td>0</td>\n",
       "      <td>0</td>\n",
       "      <td>1</td>\n",
       "      <td>0</td>\n",
       "      <td>1</td>\n",
       "      <td>25</td>\n",
       "      <td>625</td>\n",
       "      <td>1</td>\n",
       "      <td>1</td>\n",
       "      <td>1</td>\n",
       "      <td>8.0</td>\n",
       "      <td>64.0</td>\n",
       "      <td>2.079442</td>\n",
       "      <td>200.0</td>\n",
       "    </tr>\n",
       "    <tr>\n",
       "      <th>2</th>\n",
       "      <td>300000</td>\n",
       "      <td>90000000000</td>\n",
       "      <td>12.611538</td>\n",
       "      <td>300.0</td>\n",
       "      <td>1</td>\n",
       "      <td>0</td>\n",
       "      <td>0</td>\n",
       "      <td>1</td>\n",
       "      <td>0</td>\n",
       "      <td>0</td>\n",
       "      <td>44</td>\n",
       "      <td>1936</td>\n",
       "      <td>1</td>\n",
       "      <td>2</td>\n",
       "      <td>1</td>\n",
       "      <td>10.0</td>\n",
       "      <td>100.0</td>\n",
       "      <td>2.302585</td>\n",
       "      <td>440.0</td>\n",
       "    </tr>\n",
       "    <tr>\n",
       "      <th>3</th>\n",
       "      <td>2900000</td>\n",
       "      <td>8410000000000</td>\n",
       "      <td>14.880221</td>\n",
       "      <td>2900.0</td>\n",
       "      <td>1</td>\n",
       "      <td>0</td>\n",
       "      <td>0</td>\n",
       "      <td>1</td>\n",
       "      <td>0</td>\n",
       "      <td>1</td>\n",
       "      <td>54</td>\n",
       "      <td>2916</td>\n",
       "      <td>1</td>\n",
       "      <td>1</td>\n",
       "      <td>1</td>\n",
       "      <td>28.0</td>\n",
       "      <td>784.0</td>\n",
       "      <td>3.332205</td>\n",
       "      <td>1512.0</td>\n",
       "    </tr>\n",
       "    <tr>\n",
       "      <th>4</th>\n",
       "      <td>2300000</td>\n",
       "      <td>5290000000000</td>\n",
       "      <td>14.648420</td>\n",
       "      <td>2300.0</td>\n",
       "      <td>1</td>\n",
       "      <td>1</td>\n",
       "      <td>0</td>\n",
       "      <td>0</td>\n",
       "      <td>0</td>\n",
       "      <td>0</td>\n",
       "      <td>63</td>\n",
       "      <td>3969</td>\n",
       "      <td>1</td>\n",
       "      <td>2</td>\n",
       "      <td>1</td>\n",
       "      <td>20.0</td>\n",
       "      <td>400.0</td>\n",
       "      <td>2.995732</td>\n",
       "      <td>1260.0</td>\n",
       "    </tr>\n",
       "  </tbody>\n",
       "</table>\n",
       "</div>"
      ],
      "text/plain": [
       "         y            y_2       y_ln     y_d  q  x1  x2  x3  f  g   w   w_2  \\\n",
       "0  1500000  2250000000000  14.220976  1500.0  0   0   0   1  0  1  26   676   \n",
       "1  2300000  5290000000000  14.648420  2300.0  1   0   0   1  0  1  25   625   \n",
       "2   300000    90000000000  12.611538   300.0  1   0   0   1  0  0  44  1936   \n",
       "3  2900000  8410000000000  14.880221  2900.0  1   0   0   1  0  1  54  2916   \n",
       "4  2300000  5290000000000  14.648420  2300.0  1   1   0   0  0  0  63  3969   \n",
       "\n",
       "   wed  son  son_2     z    z_2      z_ln     w_z  \n",
       "0    0    0      0   2.0    4.0  0.693147    52.0  \n",
       "1    1    1      1   8.0   64.0  2.079442   200.0  \n",
       "2    1    2      1  10.0  100.0  2.302585   440.0  \n",
       "3    1    1      1  28.0  784.0  3.332205  1512.0  \n",
       "4    1    2      1  20.0  400.0  2.995732  1260.0  "
      ]
     },
     "execution_count": 20,
     "metadata": {},
     "output_type": "execute_result"
    }
   ],
   "source": [
    "import pandas as pd\n",
    "import seaborn as sns\n",
    "datos_yopal = pd.read_excel('../data set/datos modelos.xlsx')\n",
    "\n",
    "# mostra primeros 5 datos\n",
    "datos_yopal.head(5)"
   ]
  },
  {
   "cell_type": "code",
   "execution_count": 21,
   "id": "193c25b0",
   "metadata": {},
   "outputs": [
    {
     "name": "stdout",
     "output_type": "stream",
     "text": [
      "<class 'pandas.core.frame.DataFrame'>\n",
      "RangeIndex: 391 entries, 0 to 390\n",
      "Data columns (total 19 columns):\n",
      " #   Column  Non-Null Count  Dtype  \n",
      "---  ------  --------------  -----  \n",
      " 0   y       391 non-null    int64  \n",
      " 1   y_2     391 non-null    int64  \n",
      " 2   y_ln    391 non-null    float64\n",
      " 3   y_d     391 non-null    float64\n",
      " 4   q       391 non-null    int64  \n",
      " 5   x1      391 non-null    int64  \n",
      " 6   x2      391 non-null    int64  \n",
      " 7   x3      391 non-null    int64  \n",
      " 8   f       391 non-null    int64  \n",
      " 9   g       391 non-null    int64  \n",
      " 10  w       391 non-null    int64  \n",
      " 11  w_2     391 non-null    int64  \n",
      " 12  wed     391 non-null    int64  \n",
      " 13  son     391 non-null    int64  \n",
      " 14  son_2   391 non-null    int64  \n",
      " 15  z       391 non-null    float64\n",
      " 16  z_2     391 non-null    float64\n",
      " 17  z_ln    391 non-null    float64\n",
      " 18  w_z     391 non-null    float64\n",
      "dtypes: float64(6), int64(13)\n",
      "memory usage: 58.2 KB\n"
     ]
    }
   ],
   "source": [
    "datos_yopal.info()"
   ]
  },
  {
   "attachments": {},
   "cell_type": "markdown",
   "id": "f77ffb15-589b-4a64-80f7-5539f20695bc",
   "metadata": {},
   "source": [
    "## Determinación del tamaño muestral\n",
    "Los datos fueron obtenidos a través de encuestas mediante el método de muestreo aleatorio simple. El\n",
    "tamaño de muestra fue estimado mediante análisis gráfico del comportamiento asintótico de los parámetros\n",
    "del modelo. La distribución asintótica se emplea para aproximar a la verdadera distribución muestral de una\n",
    "variable aleatoria, proponiendo que la distribución de un estimador consistente tiende a acercarse más en\n",
    "probabilidad al valor verdadero, conforme aumenta el tamaño de la muestra. A continuación, se muestran\n",
    "gráficamente el comportamiento de las betas estimadas según lo anteriormente expuesto, esta parte hace\n",
    "parte del preprosesameinto realizado en el sofware excel para hacer más eficiente el analisis."
   ]
  },
  {
   "cell_type": "markdown",
   "id": "5978a22b",
   "metadata": {},
   "source": [
    "<center>\n",
    "<img src=\"../images/determiacion_muestra.jpg\" alt=\"metodo de tamaño de muestra\" width=\"370\">\n"
   ]
  },
  {
   "attachments": {},
   "cell_type": "markdown",
   "id": "339c14d4-2995-4bb2-85b6-46c669aa515d",
   "metadata": {},
   "source": [
    "# Creacion del modelo "
   ]
  },
  {
   "attachments": {},
   "cell_type": "markdown",
   "id": "706638f1-d4bc-4c64-836e-4760dc54c471",
   "metadata": {},
   "source": [
    "Se puede apreciar, que en la mayoría de las betas 𝛽 estimadas sus coeficientes se estabilizan alrededor de los\n",
    "380 datos, conduciendo hacia el valor real."
   ]
  },
  {
   "cell_type": "code",
   "execution_count": 39,
   "id": "68bca735-a707-484c-94d8-3aff1e016115",
   "metadata": {},
   "outputs": [],
   "source": [
    "import matplotlib.pyplot as plt\n",
    "import statsmodels.api as sm\n",
    "import numpy as np\n",
    "from statsmodels.compat import lzip\n",
    "import statsmodels.stats.api as sms\n",
    "from statsmodels.stats.outliers_influence import variance_inflation_factor \n",
    "import math\n",
    "from linearmodels.iv import IV2SLS # Two-Stage Least Squares) se utiliza cuando hay correlación entre las variables explicativas y el término de error\n",
    "import pickle # Libreria para guardar modelos de ML"
   ]
  },
  {
   "attachments": {},
   "cell_type": "markdown",
   "id": "8e86b6c5-7ade-4a1e-ab98-fb9c7ea0832b",
   "metadata": {},
   "source": [
    "## Estimación de modelo preliminar\n",
    "A continuación se estimará un modelo preliminar con todas las variables,<br> para tener una idea de como funciona \n"
   ]
  },
  {
   "cell_type": "code",
   "execution_count": 23,
   "id": "54ecf0c6-e6d9-45b8-a5e5-cd52461383e7",
   "metadata": {},
   "outputs": [],
   "source": [
    "# Separar los predictores y la variable de respuesta\n",
    "X = datos_yopal.drop(['y', 'y_2','y_ln','y_d'], axis=1)\n",
    "y = datos_yopal['y_ln']"
   ]
  },
  {
   "cell_type": "code",
   "execution_count": 24,
   "id": "8539a290-2bdf-43dc-8443-7006b0d4409c",
   "metadata": {},
   "outputs": [
    {
     "name": "stdout",
     "output_type": "stream",
     "text": [
      "                            OLS Regression Results                            \n",
      "==============================================================================\n",
      "Dep. Variable:                   y_ln   R-squared:                       0.444\n",
      "Model:                            OLS   Adj. R-squared:                  0.423\n",
      "Method:                 Least Squares   F-statistic:                     21.43\n",
      "Date:                Sat, 31 Aug 2024   Prob (F-statistic):           6.91e-40\n",
      "Time:                        11:00:39   Log-Likelihood:                -222.64\n",
      "No. Observations:                 391   AIC:                             475.3\n",
      "Df Residuals:                     376   BIC:                             534.8\n",
      "Df Model:                          14                                         \n",
      "Covariance Type:            nonrobust                                         \n",
      "==============================================================================\n",
      "                 coef    std err          t      P>|t|      [0.025      0.975]\n",
      "------------------------------------------------------------------------------\n",
      "const         10.1639      0.213     47.705      0.000       9.745      10.583\n",
      "q             -0.1181      0.050     -2.358      0.019      -0.217      -0.020\n",
      "x1             3.1850      0.073     43.758      0.000       3.042       3.328\n",
      "x2             3.3073      0.077     43.001      0.000       3.156       3.459\n",
      "x3             3.6715      0.085     42.996      0.000       3.504       3.839\n",
      "f              0.2423      0.048      5.051      0.000       0.148       0.337\n",
      "g              0.1611      0.047      3.411      0.001       0.068       0.254\n",
      "w              0.0240      0.018      1.302      0.194      -0.012       0.060\n",
      "w_2           -0.0003      0.000     -0.997      0.319      -0.001       0.000\n",
      "wed            0.0666      0.052      1.271      0.204      -0.036       0.169\n",
      "son            0.0118      0.031      0.383      0.702      -0.049       0.072\n",
      "son_2          0.0240      0.073      0.330      0.742      -0.119       0.167\n",
      "z              0.0067      0.021      0.329      0.743      -0.034       0.047\n",
      "z_2           -0.0005      0.000     -1.126      0.261      -0.001       0.000\n",
      "z_ln           0.0055      0.037      0.151      0.880      -0.067       0.078\n",
      "w_z            0.0004      0.001      0.689      0.491      -0.001       0.001\n",
      "==============================================================================\n",
      "Omnibus:                       41.377   Durbin-Watson:                   1.829\n",
      "Prob(Omnibus):                  0.000   Jarque-Bera (JB):              105.115\n",
      "Skew:                          -0.515   Prob(JB):                     1.49e-23\n",
      "Kurtosis:                       5.322   Cond. No.                     3.82e+18\n",
      "==============================================================================\n",
      "\n",
      "Notes:\n",
      "[1] Standard Errors assume that the covariance matrix of the errors is correctly specified.\n",
      "[2] The smallest eigenvalue is 6.68e-29. This might indicate that there are\n",
      "strong multicollinearity problems or that the design matrix is singular.\n"
     ]
    }
   ],
   "source": [
    "# Añadir una constante para el término independiente del modelo\n",
    "X = sm.add_constant(X)\n",
    "\n",
    "# Ajustar el modelo de regresión mediante minimos cuadrados ordinarios \n",
    "model = sm.OLS(y, X).fit()\n",
    "\n",
    "# Imprimir los resultados\n",
    "print(model.summary())"
   ]
  },
  {
   "attachments": {},
   "cell_type": "markdown",
   "id": "86417084",
   "metadata": {},
   "source": [
    "Nota:<br> se quitan las variables que teóricamente pueden resultar redundante"
   ]
  },
  {
   "attachments": {},
   "cell_type": "markdown",
   "id": "46c7a2c9-8dba-4471-9a4c-4c3d74a294aa",
   "metadata": {},
   "source": [
    "## Seleccion del modelo<br>\n",
    "Para hallar los coeficientes del modelo se utilizó el criterio de información de Akaike (AIC) o el criterio de información bayesiano (BIC), el cual se define como: <br> \n",
    " \n",
    "\n",
    "$AIC= -2* LogLink+K*  n_(parametros )$\n",
    "\n",
    "\n",
    "Donde 𝐿𝑜𝑔𝐿𝑖𝑛𝑘 corresponde al valor de log de verosimilitud para el vector de los parámetros \n",
    "estimados, $𝑘$ es el valor de penalización dado por el número de parámetros incluidos en el \n",
    "modelo y $𝑛_(𝑝𝑎𝑟𝑎𝑚𝑒𝑡𝑟𝑜𝑠)$ corresponde al número de parámetros comprendidos por el modelo, \n",
    "mayormente conocido como “Schwarz’s Bayesian criterion”. (Freddy Hernández, 2020)\n"
   ]
  },
  {
   "cell_type": "code",
   "execution_count": 25,
   "id": "5fc2bdf5",
   "metadata": {},
   "outputs": [
    {
     "name": "stdout",
     "output_type": "stream",
     "text": [
      "                            OLS Regression Results                            \n",
      "==============================================================================\n",
      "Dep. Variable:                   y_ln   R-squared:                       0.431\n",
      "Model:                            OLS   Adj. R-squared:                  0.420\n",
      "Method:                 Least Squares   F-statistic:                     41.41\n",
      "Date:                Sat, 31 Aug 2024   Prob (F-statistic):           2.63e-43\n",
      "Time:                        11:00:39   Log-Likelihood:                -227.15\n",
      "No. Observations:                 391   AIC:                             470.3\n",
      "Df Residuals:                     383   BIC:                             502.1\n",
      "Df Model:                           7                                         \n",
      "Covariance Type:            nonrobust                                         \n",
      "==============================================================================\n",
      "                 coef    std err          t      P>|t|      [0.025      0.975]\n",
      "------------------------------------------------------------------------------\n",
      "const         14.1062      0.100    140.838      0.000      13.909      14.303\n",
      "q             -0.1257      0.050     -2.534      0.012      -0.223      -0.028\n",
      "f              0.2491      0.047      5.263      0.000       0.156       0.342\n",
      "x1            -0.5176      0.058     -8.874      0.000      -0.632      -0.403\n",
      "x2            -0.3715      0.055     -6.732      0.000      -0.480      -0.263\n",
      "g              0.1557      0.047      3.336      0.001       0.064       0.247\n",
      "w              0.0092      0.003      3.081      0.002       0.003       0.015\n",
      "z              0.0081      0.004      2.088      0.037       0.000       0.016\n",
      "==============================================================================\n",
      "Omnibus:                       34.897   Durbin-Watson:                   1.859\n",
      "Prob(Omnibus):                  0.000   Jarque-Bera (JB):               81.596\n",
      "Skew:                          -0.455   Prob(JB):                     1.91e-18\n",
      "Kurtosis:                       5.045   Cond. No.                         175.\n",
      "==============================================================================\n",
      "\n",
      "Notes:\n",
      "[1] Standard Errors assume that the covariance matrix of the errors is correctly specified.\n"
     ]
    }
   ],
   "source": [
    "X = datos_yopal[['q', 'f', 'x1', 'x2', 'g', 'w', 'z']]\n",
    "X = sm.add_constant(X)\n",
    "model = sm.OLS(y, X).fit()\n",
    "\n",
    "# Imprimir los resultados\n",
    "print(model.summary())"
   ]
  },
  {
   "attachments": {},
   "cell_type": "markdown",
   "id": "d2ef9814-d79a-4c9a-bd12-3df6fbf63eee",
   "metadata": {},
   "source": [
    "En las anteriores tablas se muestra el coeficiente logarítmico de las variables, las cuales explican el fenómeno<br>\n",
    "estudiado en este trabajo, el cual intenta desvelar los factores que inciden en el ingreso de la PEA ocupada<br>\n",
    "del área urbana de Yopal Casanare.<br><br>\n",
    "Como se puede apreciar, todos los coeficientes presentan significancia indicando que,impactan directamente<br>\n",
    "al ingreso de la población estudiada y a su vez se puede apreciar que no todos los valores de los coeficientes<br>\n",
    "tienen signo positivo, por lo tanto, se puede concluir que no todas las variables incluidas en el estudio<br>\n",
    "aumentan la posibilidad de elevar el nivel de ingreso. De igual forma se puede apreciar, tanto significancia<br>\n",
    "estadística individual como conjunta, apreciando los intervalos de confianza, los cuales presentan rangos<br>\n",
    "normales y de la misma forma todos los estimadores presentan coeficientes congruentes con los intervalos,<br>\n",
    "siendo estos significativos, por lo cual se incluyen todas las variables en el modelo."
   ]
  },
  {
   "attachments": {},
   "cell_type": "markdown",
   "id": "a651d8b5",
   "metadata": {},
   "source": [
    "# Normalidad\n",
    "\n",
    "Para la verificación del supuesto de normalidad se hizo uso del gráfico de Normal Q-Q Plot regresión respecto<br>"
   ]
  },
  {
   "cell_type": "code",
   "execution_count": 26,
   "id": "291e5df6",
   "metadata": {},
   "outputs": [
    {
     "data": {
      "image/png": "[encoded data removed]",
      "text/plain": [
       "<Figure size 640x480 with 1 Axes>"
      ]
     },
     "metadata": {},
     "output_type": "display_data"
    }
   ],
   "source": [
    "# obtener los errores o residuos\n",
    "pred = model.predict(X)  # realizar predicciones\n",
    "real = y\n",
    "residuos = real - pred\n",
    "\n",
    "# Crear el gráfico Q-Q plot de los errores\n",
    "sm.qqplot(residuos, line='s')\n",
    "plt.xlabel('Cuantiles teóricos')\n",
    "plt.ylabel('Cuantiles de los errores')\n",
    "plt.title('Q-Q Plot de los errores población de Yopal Casanare')\n",
    "plt.show()\n",
    "\n"
   ]
  },
  {
   "attachments": {},
   "cell_type": "markdown",
   "id": "a9d5e625",
   "metadata": {},
   "source": [
    "Se puede apreciar que los puntos se encuentran junto a la línea de normalidad, no obstante,algunos puntos<br>\n",
    "se encuentran ligeramente alejados de la diagonal, por lo cual no se puede apreciar claramente si el supuesto<br>\n",
    "de normalidad se cumple, a continuación, dispondrá evaluar el supuesto mediante la gráfica de distribución<br>\n",
    "normal Gaussiana."
   ]
  },
  {
   "cell_type": "code",
   "execution_count": 27,
   "id": "42123d64",
   "metadata": {},
   "outputs": [
    {
     "data": {
      "image/png": "[encoded data removed]",
      "text/plain": [
       "<Figure size 640x480 with 1 Axes>"
      ]
     },
     "metadata": {},
     "output_type": "display_data"
    }
   ],
   "source": [
    "# Trazar un histograma con Seaborn\n",
    "sns.histplot(residuos , bins='auto', kde=True)\n",
    "\n",
    "plt.xlabel('residuos')\n",
    "plt.ylabel('densidad')\n",
    "plt.title('Grafico de normalidad')\n",
    "plt.show()"
   ]
  },
  {
   "attachments": {},
   "cell_type": "markdown",
   "id": "c9dad41c",
   "metadata": {},
   "source": [
    "En el gráfico de normalidad, se puede puede observar una distribución con tendencia leptocúrtica, no obstante,<br>\n",
    "según (Beaver et al., 2006), el teorema de límite central se puede expresar como ∑𝑥𝑖, que, cuando 𝑛 se hace grande,<br>\n",
    "también tiene una distribución aproximadamente normal con media 𝑛 𝜇 y desviación estándar 𝛿√𝑛.  En este sentido,<br>\n",
    " la conclusión se basa en el teorema de límite central y dar por cumplido el supuesto de normalidad en el modelo.   \n"
   ]
  },
  {
   "attachments": {},
   "cell_type": "markdown",
   "id": "bdbb3fe0",
   "metadata": {},
   "source": [
    "# Multicolinealidad"
   ]
  },
  {
   "cell_type": "code",
   "execution_count": 28,
   "id": "d2d39d45",
   "metadata": {},
   "outputs": [
    {
     "data": {
      "text/html": [
       "<div>\n",
       "<style scoped>\n",
       "    .dataframe tbody tr th:only-of-type {\n",
       "        vertical-align: middle;\n",
       "    }\n",
       "\n",
       "    .dataframe tbody tr th {\n",
       "        vertical-align: top;\n",
       "    }\n",
       "\n",
       "    .dataframe thead th {\n",
       "        text-align: right;\n",
       "    }\n",
       "</style>\n",
       "<table border=\"1\" class=\"dataframe\">\n",
       "  <thead>\n",
       "    <tr style=\"text-align: right;\">\n",
       "      <th></th>\n",
       "      <th>Variable</th>\n",
       "      <th>VIF</th>\n",
       "    </tr>\n",
       "  </thead>\n",
       "  <tbody>\n",
       "    <tr>\n",
       "      <th>0</th>\n",
       "      <td>q</td>\n",
       "      <td>1.056285</td>\n",
       "    </tr>\n",
       "    <tr>\n",
       "      <th>1</th>\n",
       "      <td>f</td>\n",
       "      <td>1.103952</td>\n",
       "    </tr>\n",
       "    <tr>\n",
       "      <th>2</th>\n",
       "      <td>x1</td>\n",
       "      <td>1.481452</td>\n",
       "    </tr>\n",
       "    <tr>\n",
       "      <th>3</th>\n",
       "      <td>x2</td>\n",
       "      <td>1.470380</td>\n",
       "    </tr>\n",
       "    <tr>\n",
       "      <th>4</th>\n",
       "      <td>g</td>\n",
       "      <td>1.091783</td>\n",
       "    </tr>\n",
       "    <tr>\n",
       "      <th>5</th>\n",
       "      <td>w</td>\n",
       "      <td>2.396480</td>\n",
       "    </tr>\n",
       "    <tr>\n",
       "      <th>6</th>\n",
       "      <td>z</td>\n",
       "      <td>2.360204</td>\n",
       "    </tr>\n",
       "  </tbody>\n",
       "</table>\n",
       "</div>"
      ],
      "text/plain": [
       "  Variable       VIF\n",
       "0        q  1.056285\n",
       "1        f  1.103952\n",
       "2       x1  1.481452\n",
       "3       x2  1.470380\n",
       "4        g  1.091783\n",
       "5        w  2.396480\n",
       "6        z  2.360204"
      ]
     },
     "execution_count": 28,
     "metadata": {},
     "output_type": "execute_result"
    }
   ],
   "source": [
    "vif = pd.DataFrame()\n",
    "vif[\"Variable\"] = X.columns[1:]\n",
    "vif[\"VIF\"] = [variance_inflation_factor(X.values, i) for i in range(1, X.shape[1])]\n",
    "\n",
    "# Mostrar los resultados del VIF\n",
    "vif"
   ]
  },
  {
   "attachments": {},
   "cell_type": "markdown",
   "id": "02347cc9",
   "metadata": {},
   "source": [
    "Como se puede apreciar en la matriz factor de inflación de la varianza, los valores están por debajo de 10,<br>\n",
    "por lo cual, se puede descartar en el modelo la presencia de multicolinealidad.\n",
    "\n",
    "\n",
    "# Coeficientes de Correlación entre variables numericas"
   ]
  },
  {
   "cell_type": "code",
   "execution_count": 29,
   "id": "51f04789",
   "metadata": {},
   "outputs": [
    {
     "data": {
      "image/png": "[encoded data removed]",
      "text/plain": [
       "<Figure size 800x600 with 2 Axes>"
      ]
     },
     "metadata": {},
     "output_type": "display_data"
    }
   ],
   "source": [
    "# quitrale la constanate a la varieble x\n",
    "x = X.drop(['const'], axis= 1)\n",
    "\n",
    "# grafica \n",
    "plt.figure(figsize=(8, 6))\n",
    "sns.heatmap(\n",
    "    x.corr(),\n",
    "    annot= True,\n",
    "    cmap = \"RdBu\",\n",
    "    vmax= 1,\n",
    "    vmin= -1)\n",
    "plt.show()"
   ]
  },
  {
   "attachments": {},
   "cell_type": "markdown",
   "id": "8a0f231a",
   "metadata": {},
   "source": [
    "Notas:<br>\n",
    "Las variebles dependientes, no presentan multicolinealidad fuerte"
   ]
  },
  {
   "attachments": {},
   "cell_type": "markdown",
   "id": "1d0715ae",
   "metadata": {},
   "source": [
    "## Heteroscedasticidad\n",
    "\n",
    "Para evaluar este supuesto se plantea el test “studentized Breusch-Pagan” localizado en la librería de R “lmtest” el cual consiste en estimar el modelo inicial, comprobar si el modelo presenta heterocedasticidad, posteriormente calcular los errores del modelo y los determinantes de los errores mediante la incorporación de variables independientes (Roldán et al., 2016).\n",
    "\n",
    "De manera específica el modelo se presenta de la siguiente manera:\n",
    "\n",
    "<left>\n",
    "<img src=\"../images/Breush-pagam.jpg\" alt=\"metodo de Heteroscedasticidad\" width=\"300\">"
   ]
  },
  {
   "cell_type": "code",
   "execution_count": 30,
   "id": "a6173c6e",
   "metadata": {},
   "outputs": [
    {
     "data": {
      "text/plain": [
       "[('estadística del multiplicador de Lagrange', 14.924245988113583),\n",
       " ('valor p', 0.03698281362653407),\n",
       " ('valor f', 2.1712898275226755),\n",
       " ('valor p f', 0.03597397346938414)]"
      ]
     },
     "execution_count": 30,
     "metadata": {},
     "output_type": "execute_result"
    }
   ],
   "source": [
    "# realizar la prueba de Bresuch-Pagan\n",
    "\n",
    "nombres = ['estadística del multiplicador de Lagrange', 'valor p',\n",
    "        'valor f', 'valor p f']\n",
    "\n",
    "test = sms.het_breuschpagan (model.resid, model.model.exog)\n",
    "lzip(nombres, test)"
   ]
  },
  {
   "attachments": {},
   "cell_type": "markdown",
   "id": "7699ceda",
   "metadata": {},
   "source": [
    "Los valores del test estadístico, contradicen el supuesto de homocedasticidad, dado que el P-value es menor a 0.05 rechazando<br>\n",
    "la hipótesis nula $H_0$, demostrando que el modelo presenta problemas de Heteroscedasticidad, por lo que la varianza de los errores<br>\n",
    "aleatorios no es constante. Para cumplir este supuesto se corregirá el modelo mediante errores robustos estandarizados."
   ]
  },
  {
   "attachments": {},
   "cell_type": "markdown",
   "id": "cd0ad639",
   "metadata": {},
   "source": [
    "# Variables Omitidas"
   ]
  },
  {
   "cell_type": "code",
   "execution_count": 31,
   "id": "6345edd8",
   "metadata": {},
   "outputs": [
    {
     "name": "stdout",
     "output_type": "stream",
     "text": [
      "Estadístico de prueba: <Wald test (chi2): statistic=0.4939787627935708, p-value=0.7811489881984948, df_denom=2>\n"
     ]
    },
    {
     "name": "stderr",
     "output_type": "stream",
     "text": [
      "c:\\Users\\ANTONIO\\Proyects data analisys\\Tesis_Yopal_PEA_Statsmodels\\venv_yopal\\Lib\\site-packages\\statsmodels\\stats\\diagnostic.py:1065: FutureWarning: Support for multi-dimensional indexing (e.g. `obj[:, None]`) is deprecated and will be removed in a future version.  Convert to a numpy array before indexing instead.\n",
      "  aug = res.fittedvalues[:, None]\n"
     ]
    }
   ],
   "source": [
    "import statsmodels.api as sm\n",
    "from statsmodels.stats.diagnostic import linear_reset\n",
    "\n",
    "# Realizar el test de Ramsey (RESET)\n",
    "reset_test = linear_reset(model)\n",
    "print(\"Estadístico de prueba:\", reset_test)"
   ]
  },
  {
   "attachments": {},
   "cell_type": "markdown",
   "id": "238347f1",
   "metadata": {},
   "source": [
    "Para la validación del modelo de regresión lineal múltiple se utilizó el test de Ramsey, el cual propone el siguiente supuesto:\n",
    "Formula que las variables independientes no están correlacionadas con el término del error.\n",
    "\n",
    "$cov(x,ε)=(x ε )=0$ \n",
    "\n",
    "Donde:\n",
    "\n",
    "$H_o$ El modelo no presenta problemas de variables omitidas  \n",
    "$H_a$ = El modelo presenta problemas de variables omitidas   \n",
    "\n",
    "\n",
    "Dado su $P-value$ no se rechaza la hipótesis nula, cumpliendo el supuesto de variables omitidas, por lo tanto, se puede afirmar estadísticamente que los estimadores de los parámetros  $\\hat{\\beta_0}$  son insesgados y eficientes. Demostrando que no existen omisiones de variables importantes o problemas de simultaneidad.\n"
   ]
  },
  {
   "attachments": {},
   "cell_type": "markdown",
   "id": "4214640b",
   "metadata": {},
   "source": [
    "# Estimación del Modelo Mediante Errores Estándares Robustos"
   ]
  },
  {
   "cell_type": "code",
   "execution_count": 32,
   "id": "d3ae7494",
   "metadata": {},
   "outputs": [
    {
     "name": "stdout",
     "output_type": "stream",
     "text": [
      "                            OLS Regression Results                            \n",
      "==============================================================================\n",
      "Dep. Variable:                   y_ln   R-squared:                       0.431\n",
      "Model:                            OLS   Adj. R-squared:                  0.420\n",
      "Method:                 Least Squares   F-statistic:                     36.69\n",
      "Date:                Sat, 31 Aug 2024   Prob (F-statistic):           3.39e-39\n",
      "Time:                        11:00:40   Log-Likelihood:                -227.15\n",
      "No. Observations:                 391   AIC:                             470.3\n",
      "Df Residuals:                     383   BIC:                             502.1\n",
      "Df Model:                           7                                         \n",
      "Covariance Type:                  HC3                                         \n",
      "==============================================================================\n",
      "                 coef    std err          z      P>|z|      [0.025      0.975]\n",
      "------------------------------------------------------------------------------\n",
      "const         14.1062      0.102    138.340      0.000      13.906      14.306\n",
      "q             -0.1257      0.049     -2.540      0.011      -0.223      -0.029\n",
      "f              0.2491      0.049      5.068      0.000       0.153       0.345\n",
      "x1            -0.5176      0.066     -7.842      0.000      -0.647      -0.388\n",
      "x2            -0.3715      0.058     -6.461      0.000      -0.484      -0.259\n",
      "g              0.1557      0.046      3.361      0.001       0.065       0.246\n",
      "w              0.0092      0.003      2.777      0.005       0.003       0.016\n",
      "z              0.0081      0.004      1.873      0.061      -0.000       0.017\n",
      "==============================================================================\n",
      "Omnibus:                       34.897   Durbin-Watson:                   1.859\n",
      "Prob(Omnibus):                  0.000   Jarque-Bera (JB):               81.596\n",
      "Skew:                          -0.455   Prob(JB):                     1.91e-18\n",
      "Kurtosis:                       5.045   Cond. No.                         175.\n",
      "==============================================================================\n",
      "\n",
      "Notes:\n",
      "[1] Standard Errors are heteroscedasticity robust (HC3)\n"
     ]
    }
   ],
   "source": [
    "# Ajustar el modelo de MCO con errores estándares robustos\n",
    "model = sm.OLS(y, X)\n",
    "model_robust = model.fit(cov_type='HC3')\n",
    "\n",
    "# Imprimir los resultados\n",
    "print(model_robust.summary())"
   ]
  },
  {
   "attachments": {},
   "cell_type": "markdown",
   "id": "0ebe3529",
   "metadata": {},
   "source": [
    "Como se puede apreciar en la tabla anterior, una vez corregido el modelo mediante el método de errores estándar robustos,<br>\n",
    "se explica que ahora la experiencia ya no es significativa al $95%$ dado que su $P-Value$ es mayor a $0.05$, no obstante, sigue<br>\n",
    "siendo significativa al $90$ y se toma por ser congruente con la teoría. Una vez corregido el supuesto de homocedasticidad,<br>\n",
    "se evalúan las variables omitidas."
   ]
  },
  {
   "attachments": {},
   "cell_type": "markdown",
   "metadata": {},
   "source": [
    "# Interpretación de resultados \t\n",
    "\n",
    "Se seleciona el modelo 3, el cual fue estimado Mediante Errores Estándares Robustos\n",
    "\n",
    "el cual presenta la seguinete ecuación:\n",
    "\n",
    "### Modelo econométrico\n",
    "\n",
    "$$ Ln(Y)= \\hat{\\beta_0}+ \\hat{\\beta}_1Q+ \\hat{\\beta}_2F+ \\hat{\\beta}_3X_1+ \\hat{\\beta}_4X_2+ \\hat{\\beta}_5G+ \\hat{\\beta_6}W+ \\hat{\\beta_7}Z + \\epsilon_t $$\n",
    "\n",
    "### Modelo muestral\n",
    "\n",
    "$$\\hat{YLn}= {\\beta_0}+ \\hat{\\beta}_1Q+ {\\beta}_2F+ {\\beta}_3X_1+ {\\beta}_4X_2+ {\\beta}_5G_1+ {\\beta_6}W+ {\\beta_7}Z $$"
   ]
  },
  {
   "attachments": {},
   "cell_type": "markdown",
   "id": "a8babfed",
   "metadata": {},
   "source": [
    "La ecuación resultante del modelo calculando con errores robustos presenta los siguientes estimados:\n",
    "\n",
    "$$\\hat{YLn}= 14.106158 - 0.125724*Q +0.2490846*F -0.5176395*X_1 -0.3715330*X_2-  0.1556549*G+0.0091678*W+0.0080724*Z$$\n",
    "\n",
    "Interpretación de resultados:\n",
    "\n",
    "La anterior ecuación econométrica se plantea para determinar las interacciones entre las variables mencionadas<br>\n",
    "en el estudio relacionadas con el ingreso de la PEA. Se aborda utilizando tres variables de tipo dummy, una variable<br>\n",
    "categórica y dos variables continuas. Los resultados fueron los siguientes: <br>\n",
    "\n",
    "* La variable nivel de escolaridad influyó positivamente en los salarios de la PEA ocupada de Yopal Casanare con un<br>\n",
    "nivel estadístico del $95%$ de confianza para el año 2021, considerando que, respecto a u sujeto con educación profesional,<br>\n",
    "un técnico o tecnóloga gana un $37%$ menos y a su vez un individuo sin educación profesional o técnica percibe un 51% menos<br>\n",
    "que un profesional.<br>\n",
    "\n",
    "* Se encontró que en promedio el género masculino percibe un 15% más de ingresos respecto al femenino.<br>\n",
    "\n",
    "* Contrariamente a lo que a priori se podría esperar, el hecho de tener recomendación a la hora de adquirir un empleo, influye<br>\n",
    "en un $12,5%$ de forma negativa, esto porque, al evaluar a un candidato para un cargo de alto nivel, esta variable es tomada en<br>\n",
    "cuenta en menor medida.\n",
    "\n",
    "* La variable escolaridad obtenida fuera del departamento, afecta positivamente al ingreso en un $24%$, esto tal vez explicado por<br>\n",
    "la falta de oferta académica de educación superior, tanto en posgrados como en pregrados.<br>\n",
    "\n",
    "* Se encontró que las variables experiencia y edad presentan crecimiento lineal positivo, afectando al ingreso en $0,91%$ y $0,81%$<br>\n",
    "respectivamente, por cada unidad adicional. \n",
    "\n",
    "## Análisis y/o Simulación de escenarios\n",
    "\n",
    "Función de regresión múltiple:\n",
    "\n",
    "$$\\hat{YLn}= {\\beta_0}+ {\\beta}_1Q+ {\\beta}_2F+ {\\beta}_3X_1+ {\\beta}_4X_2+ {\\beta}_5G_1+ {\\beta_6}W+ {\\beta_7}Z $$\n",
    "\n",
    "Donde:<br>\n",
    "\n",
    "$$\\hat{YLn}= 14.106158-0.125724*Q+ 0.2490846*F -0.5176395*X_1 -0.3715330*X_2-  0.1556549*G+0.0091678*W+0.0080724*Z$$\n",
    "Así mismo:<br>\n",
    "\n",
    "$$\\hat{YLn}= 14.1061586-0.1257248*Q- 0.5176395*X_1-0.3715330*X_2+0.2490846*F+ 0.1556549*G+ 0.0091678*W+0.0080724*Z $$ \n",
    "$$\\hat{YLn} = b$$\n",
    "\n",
    "$$ e^(\\hat{YLn})= e^b $$\n",
    "\n",
    "$$\\hat{Y} = c$$\n",
    "\n",
    "\n",
    "Teniendo en cuenta la relación anterior, se calculará el ingreso promedio que un individuo puede obtener, dadas ciertas características:\n",
    "\n",
    "* El ingreso promedio para un joven de género masculino, de alrededor de 18 años, recientemente graduado de bachiller, sin experiencia laboral y con recomendación laboral:\n"
   ]
  },
  {
   "cell_type": "code",
   "execution_count": 33,
   "id": "d28575b3",
   "metadata": {},
   "outputs": [
    {
     "name": "stdout",
     "output_type": "stream",
     "text": [
      "El ingreso promedio es de: $1242397\n"
     ]
    }
   ],
   "source": [
    "m_18 = model_robust.predict([1,1,1,1,0,1,18,0])\n",
    "m_18 = math.exp(m_18[0])\n",
    "print(f'El ingreso promedio es de: ${int(m_18)}')"
   ]
  },
  {
   "attachments": {},
   "cell_type": "markdown",
   "id": "3e47b583",
   "metadata": {},
   "source": [
    "\n",
    "* El ingreso promedio para un individuo de género femenino de alrededor de 18 años, recientemente graduada de bachiller, sin experiencia laboral y con recomendación laboral:"
   ]
  },
  {
   "cell_type": "code",
   "execution_count": 34,
   "id": "67b6891a",
   "metadata": {},
   "outputs": [
    {
     "name": "stdout",
     "output_type": "stream",
     "text": [
      "El ingreso promedio es de: $1063311\n"
     ]
    }
   ],
   "source": [
    "f_18 = model_robust.predict([1,1,1,1,0,0,18,0])\n",
    "f_18 = math.exp(f_18[0])\n",
    "print(f'El ingreso promedio es de: ${int(f_18)}')"
   ]
  },
  {
   "attachments": {},
   "cell_type": "markdown",
   "id": "f8428c55",
   "metadata": {},
   "source": [
    "* Se halla el ingreso promedio que podría obtener un individuo que presente las condiciones mayormente<br>\n",
    "favorables en la ciudad de Yopal, este de género masculino, contando con 40 años de edad, profesional y con<br>\n",
    "10 años de experiencia laboral:"
   ]
  },
  {
   "cell_type": "code",
   "execution_count": 35,
   "id": "6cd69779",
   "metadata": {},
   "outputs": [
    {
     "name": "stdout",
     "output_type": "stream",
     "text": [
      "El ingreso promedio es de: $3135605\n"
     ]
    }
   ],
   "source": [
    "m_40 = model_robust.predict([1,0,1,0,0,1,40,10])\n",
    "m_40 = math.exp(m_40[0])\n",
    "print(f'El ingreso promedio es de: ${int(m_40)}')"
   ]
  },
  {
   "attachments": {},
   "cell_type": "markdown",
   "id": "b02390cd",
   "metadata": {},
   "source": [
    "* Se halla el ingreso promedio que podría obtener un individuo que presente las condiciones mayormente\n",
    "favorables en la ciudad de Yopal, en este caso de género femenino, contando con 40 años de edad, profesional\n",
    "y con 10 años de experiencia:"
   ]
  },
  {
   "cell_type": "code",
   "execution_count": 36,
   "id": "4062f0f4",
   "metadata": {},
   "outputs": [
    {
     "name": "stdout",
     "output_type": "stream",
     "text": [
      "El ingreso promedio es de: $2683622\n"
     ]
    }
   ],
   "source": [
    "m_40 = model_robust.predict([1,0,1,0,0,0,40,10])\n",
    "m_40 = math.exp(m_40[0])\n",
    "print(f'El ingreso promedio es de: ${int(m_40)}')"
   ]
  },
  {
   "attachments": {},
   "cell_type": "markdown",
   "id": "90aed0c7",
   "metadata": {},
   "source": [
    "Conclusiones\n",
    "Como resultado del presente estudio se encontró que la variable nivel de escolaridad, influyó positivamente<br>\n",
    "en los salarios de la PEA ocupada de Yopal Casanare con un nivel estadístico del 95% de confianza para<br>\n",
    "el año 2021, considerando que, respecto a u sujeto con educación profesional, un técnico o tecnóloga gana<br>\n",
    "un 37% menos y a su vez un individuo sin educación profesional o técnica percibe un 51% menos que un<br>\n",
    "profesional.<br><br>\n",
    "Por otra parte, se concluye que, la edad del empleado junto con los años de experiencia laboral marca<br>\n",
    "resultados positivos en el nivel de ingresos, esta última cuenta con un nivel de significancia del 90% y<br>\n",
    "mediante inferencias se demostró que el ingreso es afectado en un 0,81% y 0,91% por cada año de edad<br>\n",
    "y experiencia obtenido por el trabajador, respectivamente. En cuanto a la variable género, se encontró<br>\n",
    "una diferenciación salarial de alrededor del 15% a favor del género masculino, evidenciándose una posible<br>\n",
    "desventaja para el género femenino en cuanto a la remuneración se refiere, es decir, por un millón de pesos<br>\n",
    "que un individuo de género masculino recibe, una mujer recibiría $850.000 aproximadamente.\n",
    "\n",
    "\n",
    "Adicionalmente se logró determinar que el canal de búsqueda o recomendación presenta un impacto negativo<br>\n",
    "del 12,5% sobre el salario de la PEA ocupada en Yopal, esto con un nivel de significancia estadística del 95%,<br>\n",
    "lo que explica que, por un millón de pesos que reciba cualquier individuo sin recomendación, un individuo<br>\n",
    "diferente con recomendación y las mismas características - ceteris paribus - obtendrá $875.000.\n",
    "\n",
    "\n",
    "Finalmente, se estimó que la escolaridad obtenida por fuera del departamento, influyó un 24,9% positivamente <br>\n",
    "en los salarios de la PEA, lo que significa, por un millón de pesos que gana un individuo que obtuvo todos <br>\n",
    "sus estudios dentro del departamento, otro individuo con las mismas características, pero que realizó sus <br>\n",
    "estudios por fuera del departamento ganaría $1´250.000."
   ]
  },
  {
   "cell_type": "markdown",
   "id": "1ecc9b57",
   "metadata": {},
   "source": [
    "# Save Model"
   ]
  },
  {
   "cell_type": "code",
   "execution_count": 37,
   "id": "549da6e2",
   "metadata": {},
   "outputs": [
    {
     "name": "stdout",
     "output_type": "stream",
     "text": [
      "Modelo guardado en: ../models/model_OLS\n"
     ]
    }
   ],
   "source": [
    "# Guardar modelo para posteriormente hacer MLOps (Machine Learning Operations.)\n",
    "\n",
    "model_path = \"../models/model_OLS\" # Ruta de guardado\n",
    "\n",
    "# Guardar el modelo\n",
    "with open(model_path, 'wb') as file:\n",
    "    pickle.dump(model_robust, file)\n",
    "\n",
    "print(f\"Modelo guardado en: {model_path}\") # Mostrar ruta donde se guardo"
   ]
  },
  {
   "cell_type": "code",
   "execution_count": 38,
   "id": "af10a391",
   "metadata": {},
   "outputs": [
    {
     "name": "stdout",
     "output_type": "stream",
     "text": [
      "Modelo cargado exitosamente\n"
     ]
    }
   ],
   "source": [
    "# Cargamos el modelo\n",
    "with open(model_path, 'rb') as file:\n",
    "    model_robust = pickle.load(file)\n",
    "\n",
    "print(\"Modelo cargado exitosamente\")"
   ]
  }
 ],
 "metadata": {
  "kernelspec": {
   "display_name": "Python 3 (ipykernel)",
   "language": "python",
   "name": "python3"
  },
  "language_info": {
   "codemirror_mode": {
    "name": "ipython",
    "version": 3
   },
   "file_extension": ".py",
   "mimetype": "text/x-python",
   "name": "python",
   "nbconvert_exporter": "python",
   "pygments_lexer": "ipython3",
   "version": "3.11.5"
  }
 },
 "nbformat": 4,
 "nbformat_minor": 5
}
